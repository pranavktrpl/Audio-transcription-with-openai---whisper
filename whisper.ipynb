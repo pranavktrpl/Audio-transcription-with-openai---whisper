{
 "cells": [
  {
   "cell_type": "code",
   "execution_count": 1,
   "id": "ce0a5893",
   "metadata": {},
   "outputs": [],
   "source": [
    "import whisper"
   ]
  },
  {
   "cell_type": "code",
   "execution_count": 18,
   "id": "a13c6853",
   "metadata": {},
   "outputs": [
    {
     "name": "stderr",
     "output_type": "stream",
     "text": [
      "100%|███████████████████████████████████████| 139M/139M [00:29<00:00, 4.92MiB/s]\n"
     ]
    }
   ],
   "source": [
    "model = whisper.load_model(\"base\")\n",
    "# result = model.transcribe(\"test.mp3\")"
   ]
  },
  {
   "cell_type": "code",
   "execution_count": null,
   "id": "610fe18b",
   "metadata": {},
   "outputs": [
    {
     "name": "stderr",
     "output_type": "stream",
     "text": [
      "/Library/Frameworks/Python.framework/Versions/3.10/lib/python3.10/site-packages/whisper/transcribe.py:114: UserWarning: FP16 is not supported on CPU; using FP32 instead\n",
      "  warnings.warn(\"FP16 is not supported on CPU; using FP32 instead\")\n"
     ]
    }
   ],
   "source": [
    "option = whisper.DecodingOptions(language='en')\n",
    "result = model.transcribe(\"test.mp4\")"
   ]
  },
  {
   "cell_type": "markdown",
   "id": "52d80f10",
   "metadata": {},
   "source": [
    "The code below is to make sure the output is saved in a new file called test.txt at save_target, you can rename it to whatever you would like.\n",
    "You will need to run it separately to make sureit saves the text in new file after running the previous cell."
   ]
  },
  {
   "cell_type": "code",
   "execution_count": 42,
   "id": "27bc3db7",
   "metadata": {},
   "outputs": [],
   "source": [
    "save_target = \"test.txt\"\n",
    "\n",
    "with open(save_target, 'w') as file:\n",
    "    for indx,segment in enumerate(result['segments']):\n",
    "        file.write(str(indx+1) + \". \")\n",
    "        file.write(segment['text'].strip() + '\\n')\n",
    "#         file.write('\\n')"
   ]
  },
  {
   "cell_type": "markdown",
   "id": "36188c7a",
   "metadata": {},
   "source": [
    "The next cell will print the output here on this notebook only."
   ]
  },
  {
   "cell_type": "code",
   "execution_count": null,
   "id": "f72e2029",
   "metadata": {},
   "outputs": [],
   "source": [
    "print(result[\"text\"])"
   ]
  },
  {
   "cell_type": "code",
   "execution_count": 43,
   "id": "ba886d13",
   "metadata": {},
   "outputs": [],
   "source": [
    "# print(result['segments'][-1]['id'])"
   ]
  },
  {
   "cell_type": "code",
   "execution_count": 24,
   "id": "b303134d",
   "metadata": {},
   "outputs": [],
   "source": [
    "# !whisper -h"
   ]
  }
 ],
 "metadata": {
  "kernelspec": {
   "display_name": "Python 3 (ipykernel)",
   "language": "python",
   "name": "python3"
  },
  "language_info": {
   "codemirror_mode": {
    "name": "ipython",
    "version": 3
   },
   "file_extension": ".py",
   "mimetype": "text/x-python",
   "name": "python",
   "nbconvert_exporter": "python",
   "pygments_lexer": "ipython3",
   "version": "3.10.10"
  }
 },
 "nbformat": 4,
 "nbformat_minor": 5
}
